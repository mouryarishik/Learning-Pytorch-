{
  "nbformat": 4,
  "nbformat_minor": 0,
  "metadata": {
    "colab": {
      "name": "MXNet vs Pytorch.ipynb",
      "version": "0.3.2",
      "provenance": [],
      "collapsed_sections": []
    },
    "kernelspec": {
      "name": "python3",
      "display_name": "Python 3"
    },
    "accelerator": "GPU"
  },
  "cells": [
    {
      "cell_type": "code",
      "metadata": {
        "id": "zN02eqeFJa7C",
        "colab_type": "code",
        "colab": {}
      },
      "source": [
        "!pip install mxnet-cu100\n",
        "!pip install torch torchvision"
      ],
      "execution_count": 0,
      "outputs": []
    },
    {
      "cell_type": "code",
      "metadata": {
        "id": "DwXOrO0eaMv8",
        "colab_type": "code",
        "outputId": "2d87a86f-2ba7-4c7e-8e2e-2f754610d099",
        "colab": {
          "base_uri": "https://localhost:8080/",
          "height": 52
        }
      },
      "source": [
        "import mxnet as mx\n",
        "import mxnet.gluon.nn as mxnn\n",
        "from mxnet import nd\n",
        "from mxnet import gluon, autograd\n",
        "from mxnet.gluon.data.vision import transforms as mxT\n",
        "import time, os, shutil\n",
        "\n",
        "import torch\n",
        "import torch.nn as pytorchnn\n",
        "import math\n",
        "import torch.nn.functional as F\n",
        "import torchvision\n",
        "import torchvision.transforms as pytorchT\n",
        "from torch import optim as pytorchoptim\n",
        "from torch.backends import cudnn\n",
        "\n",
        "cudnn.benchmark = True\n",
        "ctx = mx.gpu()\n",
        "\n",
        "print(mx.__version__)\n",
        "print(torch.__version__)"
      ],
      "execution_count": 2,
      "outputs": [
        {
          "output_type": "stream",
          "text": [
            "1.4.1\n",
            "1.1.0\n"
          ],
          "name": "stdout"
        }
      ]
    },
    {
      "cell_type": "code",
      "metadata": {
        "id": "jlGxrTEtKBPQ",
        "colab_type": "code",
        "colab": {}
      },
      "source": [
        "def mx_conv3x3(out_planes, stride=1):\n",
        "    \" 3x3 convolution with padding \"\n",
        "    return mxnn.Conv2D(out_planes, kernel_size=3, strides=stride, padding=1)\n",
        "\n",
        "\n",
        "class mxBasicBlock(mxnn.HybridBlock):\n",
        "    expansion = 1\n",
        "\n",
        "    def __init__(self, planes, stride=1, downsample=None, **kwargs):\n",
        "        super(mxBasicBlock, self).__init__(**kwargs)\n",
        "        self.conv1 = mx_conv3x3(planes, stride)\n",
        "        self.bn1 = mxnn.BatchNorm()\n",
        "        self.conv2 = mx_conv3x3(planes)\n",
        "        self.bn2 = mxnn.BatchNorm()\n",
        "        self.downsample = downsample\n",
        "        self.stride = stride\n",
        "\n",
        "    def hybrid_forward(self, F, x):\n",
        "        residual = x\n",
        "\n",
        "        out = self.conv1(x)\n",
        "        out = self.bn1(out)\n",
        "        out = F.relu(out)\n",
        "\n",
        "        out = self.conv2(out)\n",
        "        out = self.bn2(out)\n",
        "\n",
        "        if self.downsample is not None:\n",
        "            residual = self.downsample(x)\n",
        "\n",
        "        out = F.relu(residual + out)\n",
        "\n",
        "        return out\n",
        "\n",
        "\n",
        "class mxResNet_Cifar(mxnn.HybridBlock):\n",
        "\n",
        "    def __init__(self, block, layers, num_classes=10, **kwargs):\n",
        "        super(mxResNet_Cifar, self).__init__(**kwargs)\n",
        "\n",
        "        self.inplanes = 16\n",
        "        self.conv1 = mxnn.Conv2D(\n",
        "            16, kernel_size=3, strides=1, padding=1)\n",
        "        self.bn1 = mxnn.BatchNorm()\n",
        "        self.layer1 = self._make_layer(block, 16, layers[0])\n",
        "        self.layer2 = self._make_layer(block, 32, layers[1], stride=2)\n",
        "        self.layer3 = self._make_layer(block, 64, layers[2], stride=2)\n",
        "        self.avgpool = mxnn.AvgPool2D(8, strides=1)\n",
        "        self.fc = mxnn.Dense(num_classes)\n",
        "\n",
        "    def _make_layer(self, block, planes, blocks, stride=1):\n",
        "        downsample = None\n",
        "        if stride != 1 or self.inplanes != planes * block.expansion:\n",
        "            downsample = mxnn.HybridSequential()\n",
        "            downsample.add(\n",
        "                mxnn.Conv2D(planes * block.expansion,\n",
        "                          kernel_size=1, strides=stride)\n",
        "            )\n",
        "\n",
        "        layers = mxnn.HybridSequential()\n",
        "        layers.add(block(planes, stride, downsample))\n",
        "        for _ in range(1, blocks):\n",
        "            layers.add(block(planes))\n",
        "\n",
        "        return layers\n",
        "\n",
        "    def hybrid_forward(self, F, x):\n",
        "        x = self.conv1(x)\n",
        "        x = self.bn1(x)\n",
        "        x = F.relu(x)\n",
        "\n",
        "        x = self.layer1(x)\n",
        "        x = self.layer2(x)\n",
        "        x = self.layer3(x)\n",
        "\n",
        "        x = self.avgpool(x)\n",
        "        x = self.fc(x)\n",
        "\n",
        "        return x\n",
        "\n",
        "\n",
        "def mx_resnet20_cifar(**kwargs):\n",
        "    model = mxResNet_Cifar(mxBasicBlock, [3, 3, 3], **kwargs)\n",
        "    return model"
      ],
      "execution_count": 0,
      "outputs": []
    },
    {
      "cell_type": "code",
      "metadata": {
        "id": "TCtOOO8Y9Vun",
        "colab_type": "code",
        "colab": {}
      },
      "source": [
        "del mxnet"
      ],
      "execution_count": 0,
      "outputs": []
    },
    {
      "cell_type": "code",
      "metadata": {
        "id": "a-8m3jjSQ_tB",
        "colab_type": "code",
        "colab": {
          "base_uri": "https://localhost:8080/",
          "height": 52
        },
        "outputId": "fe3dced1-d08d-4063-bbc8-794ff0688979"
      },
      "source": [
        "%%time\n",
        "mxnet = mx_resnet20_cifar()\n",
        "mxnet.initialize(ctx = ctx)"
      ],
      "execution_count": 6,
      "outputs": [
        {
          "output_type": "stream",
          "text": [
            "CPU times: user 24.6 ms, sys: 9.17 ms, total: 33.8 ms\n",
            "Wall time: 26.6 ms\n"
          ],
          "name": "stdout"
        }
      ]
    },
    {
      "cell_type": "code",
      "metadata": {
        "id": "_UCmHRrcRNMx",
        "colab_type": "code",
        "outputId": "77d4849c-67a1-4fcf-83ba-a9f7cc159eac",
        "colab": {
          "base_uri": "https://localhost:8080/",
          "height": 34
        }
      },
      "source": [
        "x = nd.ones((1000, 3, 32, 32))\n",
        "x.shape, x.dtype"
      ],
      "execution_count": 7,
      "outputs": [
        {
          "output_type": "execute_result",
          "data": {
            "text/plain": [
              "((1000, 3, 32, 32), numpy.float32)"
            ]
          },
          "metadata": {
            "tags": []
          },
          "execution_count": 7
        }
      ]
    },
    {
      "cell_type": "code",
      "metadata": {
        "id": "VIeT_B7FKBmA",
        "colab_type": "code",
        "colab": {}
      },
      "source": [
        "%%time\n",
        "#before hybridization\n",
        "mxnet(x.as_in_context(mx.gpu()))"
      ],
      "execution_count": 0,
      "outputs": []
    },
    {
      "cell_type": "code",
      "metadata": {
        "id": "8fCvrinjK-x1",
        "colab_type": "code",
        "colab": {}
      },
      "source": [
        "mxnet.hybridize()"
      ],
      "execution_count": 0,
      "outputs": []
    },
    {
      "cell_type": "code",
      "metadata": {
        "id": "S6k68iJSKBys",
        "colab_type": "code",
        "colab": {}
      },
      "source": [
        "%%time\n",
        "#after hybridization\n",
        "mxnet(x.as_in_context(mx.gpu()))"
      ],
      "execution_count": 0,
      "outputs": []
    },
    {
      "cell_type": "code",
      "metadata": {
        "id": "8kew52lbMbxY",
        "colab_type": "code",
        "colab": {}
      },
      "source": [
        "def torch_conv3x3(in_planes, out_planes, stride=1):\n",
        "    \" 3x3 convolution with padding \"\n",
        "    return pytorchnn.Conv2d(in_planes, out_planes, kernel_size=3, stride=stride, padding=1)\n",
        "\n",
        "\n",
        "class pytorchBasicBlock(pytorchnn.Module):\n",
        "    expansion = 1\n",
        "\n",
        "    def __init__(self, inplanes, planes, stride=1, downsample=None):\n",
        "        super(pytorchBasicBlock, self).__init__()\n",
        "        self.conv1 = torch_conv3x3(inplanes, planes, stride)\n",
        "        self.bn1 = pytorchnn.BatchNorm2d(planes)\n",
        "        self.relu = pytorchnn.ReLU(inplace=True)\n",
        "        self.conv2 = torch_conv3x3(planes, planes)\n",
        "        self.bn2 = pytorchnn.BatchNorm2d(planes)\n",
        "        self.downsample = downsample\n",
        "        self.stride = stride\n",
        "\n",
        "    def forward(self, x):\n",
        "        residual = x\n",
        "\n",
        "        out = self.conv1(x)\n",
        "        out = self.bn1(out)\n",
        "        out = self.relu(out)\n",
        "\n",
        "        out = self.conv2(out)\n",
        "        out = self.bn2(out)\n",
        "\n",
        "        if self.downsample is not None:\n",
        "            residual = self.downsample(x)\n",
        "\n",
        "        out += residual\n",
        "        out = self.relu(out)\n",
        "\n",
        "        return out\n",
        "\n",
        "class pytorchResNet_Cifar(pytorchnn.Module):\n",
        "\n",
        "    def __init__(self, block, layers, num_classes=10):\n",
        "        super(pytorchResNet_Cifar, self).__init__()\n",
        "        self.inplanes = 16\n",
        "        self.conv1 = pytorchnn.Conv2d(3, 16, kernel_size=3,\n",
        "                               stride=1, padding=1)\n",
        "        self.bn1 = pytorchnn.BatchNorm2d(16)\n",
        "        self.relu = pytorchnn.ReLU(inplace=True)\n",
        "        self.layer1 = self._make_layer(block, 16, layers[0])\n",
        "        self.layer2 = self._make_layer(block, 32, layers[1], stride=2)\n",
        "        self.layer3 = self._make_layer(block, 64, layers[2], stride=2)\n",
        "        self.avgpool = pytorchnn.AvgPool2d(8, stride=1)\n",
        "        self.fc = pytorchnn.Linear(64 * block.expansion, num_classes)\n",
        "\n",
        "        for m in self.modules():\n",
        "            if isinstance(m, pytorchnn.Conv2d):\n",
        "                n = m.kernel_size[0] * m.kernel_size[1] * m.out_channels\n",
        "                m.weight.data.normal_(0, math.sqrt(2. / n))\n",
        "            elif isinstance(m, pytorchnn.BatchNorm2d):\n",
        "                m.weight.data.fill_(1)\n",
        "                m.bias.data.zero_()\n",
        "\n",
        "    def _make_layer(self, block, planes, blocks, stride=1):\n",
        "        downsample = None\n",
        "        if stride != 1 or self.inplanes != planes * block.expansion:\n",
        "            downsample = pytorchnn.Sequential(\n",
        "                pytorchnn.Conv2d(self.inplanes, planes * block.expansion,\n",
        "                          kernel_size=1, stride=stride),\n",
        "                pytorchnn.BatchNorm2d(planes * block.expansion)\n",
        "            )\n",
        "\n",
        "        layers = []\n",
        "        layers.append(block(self.inplanes, planes, stride, downsample))\n",
        "        self.inplanes = planes * block.expansion\n",
        "        for _ in range(1, blocks):\n",
        "            layers.append(block(self.inplanes, planes))\n",
        "\n",
        "        return pytorchnn.Sequential(*layers)\n",
        "\n",
        "    def forward(self, x):\n",
        "        x = self.conv1(x)\n",
        "        x = self.bn1(x)\n",
        "        x = self.relu(x)\n",
        "\n",
        "        x = self.layer1(x)\n",
        "        x = self.layer2(x)\n",
        "        x = self.layer3(x)\n",
        "\n",
        "        x = self.avgpool(x)\n",
        "        x = x.view(x.size(0), -1)\n",
        "        x = self.fc(x)\n",
        "\n",
        "        return x\n",
        "\n",
        "\n",
        "def pytorch_resnet20_cifar(**kwargs):\n",
        "    model = pytorchResNet_Cifar(pytorchBasicBlock, [3, 3, 3], **kwargs)\n",
        "    return model"
      ],
      "execution_count": 0,
      "outputs": []
    },
    {
      "cell_type": "code",
      "metadata": {
        "id": "drcG5GsiRk6X",
        "colab_type": "code",
        "outputId": "5976af72-fe9b-4ccf-8023-24c09168f0f9",
        "colab": {
          "base_uri": "https://localhost:8080/",
          "height": 52
        }
      },
      "source": [
        "%%time\n",
        "pytorch = pytorch_resnet20_cifar()\n",
        "pytorch.cuda()"
      ],
      "execution_count": 36,
      "outputs": [
        {
          "output_type": "stream",
          "text": [
            "CPU times: user 17.6 ms, sys: 1.71 ms, total: 19.3 ms\n",
            "Wall time: 23.2 ms\n"
          ],
          "name": "stdout"
        }
      ]
    },
    {
      "cell_type": "code",
      "metadata": {
        "id": "1J4sHe6-Rke3",
        "colab_type": "code",
        "colab": {}
      },
      "source": [
        "x = torch.ones((1000, 3, 32, 32), dtype = torch.float32)"
      ],
      "execution_count": 0,
      "outputs": []
    },
    {
      "cell_type": "code",
      "metadata": {
        "id": "BJY1zX5BTTKH",
        "colab_type": "code",
        "colab": {}
      },
      "source": [
        "%%time\n",
        "pytorch(x.cuda())"
      ],
      "execution_count": 0,
      "outputs": []
    },
    {
      "cell_type": "markdown",
      "metadata": {
        "id": "8d-r8hxlUB5Y",
        "colab_type": "text"
      },
      "source": [
        "#Training MXNet model"
      ]
    },
    {
      "cell_type": "markdown",
      "metadata": {
        "id": "ypmddEk5bl8q",
        "colab_type": "text"
      },
      "source": [
        "##Getting Dataset and Data loader "
      ]
    },
    {
      "cell_type": "code",
      "metadata": {
        "id": "aepgbtPZTvkI",
        "colab_type": "code",
        "colab": {
          "base_uri": "https://localhost:8080/",
          "height": 54
        },
        "outputId": "dfd991f2-a7a5-4884-91a9-bc13a3c3ed86"
      },
      "source": [
        "normalize = mxT.Normalize(mean=[0.491, 0.482, 0.447], std=[0.247, 0.243, 0.262])\n",
        "\n",
        "train_transfrom = mxT.Compose([\n",
        "    mxT.RandomFlipLeftRight(),\n",
        "    mxT.ToTensor(),\n",
        "    normalize\n",
        "])\n",
        "\n",
        "val_transform = mxT.Compose([\n",
        "    mxT.ToTensor(),\n",
        "    normalize\n",
        "])\n",
        "\n",
        "mxtrainset = gluon.data.vision.datasets.CIFAR10(\n",
        "    './data', train=True).transform_first(train_transfrom)\n",
        "mxtrainloader = gluon.data.DataLoader(\n",
        "    mxtrainset, batch_size=128, shuffle=True, num_workers=2)\n",
        "\n",
        "mxtestset = gluon.data.vision.datasets.CIFAR10(\n",
        "    './data', train=False).transform_first(val_transform)\n",
        "mxtestloader = gluon.data.DataLoader(\n",
        "    mxtestset, batch_size=128, shuffle=False, num_workers=2)"
      ],
      "execution_count": 16,
      "outputs": [
        {
          "output_type": "stream",
          "text": [
            "Downloading ./data/cifar-10-binary.tar.gz from https://apache-mxnet.s3-accelerate.dualstack.amazonaws.com/gluon/dataset/cifar10/cifar-10-binary.tar.gz...\n"
          ],
          "name": "stdout"
        }
      ]
    },
    {
      "cell_type": "code",
      "metadata": {
        "id": "916UqeY7Tvb4",
        "colab_type": "code",
        "outputId": "c5fa403a-1452-4b43-9490-f0892f46967b",
        "colab": {
          "base_uri": "https://localhost:8080/",
          "height": 52
        }
      },
      "source": [
        "%%time\n",
        "mxobjective = gluon.loss.SoftmaxCrossEntropyLoss()\n",
        "mxoptimizer = gluon.Trainer(mxnet.collect_params(), 'adam', {'learning_rate': 0.001})"
      ],
      "execution_count": 18,
      "outputs": [
        {
          "output_type": "stream",
          "text": [
            "CPU times: user 2.69 ms, sys: 0 ns, total: 2.69 ms\n",
            "Wall time: 2.7 ms\n"
          ],
          "name": "stdout"
        }
      ]
    },
    {
      "cell_type": "code",
      "metadata": {
        "id": "GEwjDteLTvM_",
        "colab_type": "code",
        "outputId": "1b78e421-60b2-4a65-caa6-8daf65fc2dc2",
        "colab": {
          "base_uri": "https://localhost:8080/",
          "height": 229
        }
      },
      "source": [
        "%%time\n",
        "for epoch in range(10):\n",
        "    for features, labels in mxtrainloader:\n",
        "        with autograd.record():\n",
        "            output = mxnet(features.as_in_context(ctx))\n",
        "            loss = mxobjective(output, labels.as_in_context(ctx))\n",
        "        loss.backward()\n",
        "        mxoptimizer.step(features.shape[0])\n",
        "    print('Epoch:', epoch)"
      ],
      "execution_count": 19,
      "outputs": [
        {
          "output_type": "stream",
          "text": [
            "Epoch: 0\n",
            "Epoch: 1\n",
            "Epoch: 2\n",
            "Epoch: 3\n",
            "Epoch: 4\n",
            "Epoch: 5\n",
            "Epoch: 6\n",
            "Epoch: 7\n",
            "Epoch: 8\n",
            "Epoch: 9\n",
            "CPU times: user 1min 38s, sys: 29.2 s, total: 2min 7s\n",
            "Wall time: 1min 44s\n"
          ],
          "name": "stdout"
        }
      ]
    },
    {
      "cell_type": "code",
      "metadata": {
        "id": "1S5u_fVHTvUZ",
        "colab_type": "code",
        "colab": {}
      },
      "source": [
        "metric = mx.metric.Accuracy()\n",
        "metric.reset()"
      ],
      "execution_count": 0,
      "outputs": []
    },
    {
      "cell_type": "code",
      "metadata": {
        "id": "cHJyrb2DTvFA",
        "colab_type": "code",
        "colab": {
          "base_uri": "https://localhost:8080/",
          "height": 52
        },
        "outputId": "14b726c4-91c9-4bb4-96ab-b63fd8dd5844"
      },
      "source": [
        "%%time\n",
        "for features, labels in mxtestloader:\n",
        "    output = mxnet(features.as_in_context(ctx))\n",
        "    metric.update(labels.as_in_context(ctx), output)"
      ],
      "execution_count": 22,
      "outputs": [
        {
          "output_type": "stream",
          "text": [
            "CPU times: user 657 ms, sys: 284 ms, total: 942 ms\n",
            "Wall time: 1.22 s\n"
          ],
          "name": "stdout"
        }
      ]
    },
    {
      "cell_type": "code",
      "metadata": {
        "id": "pA3EP103dOy1",
        "colab_type": "code",
        "outputId": "8648cda3-3744-4300-d5ca-2d25e7cfa4c4",
        "colab": {
          "base_uri": "https://localhost:8080/",
          "height": 34
        }
      },
      "source": [
        "metric.get()"
      ],
      "execution_count": 23,
      "outputs": [
        {
          "output_type": "execute_result",
          "data": {
            "text/plain": [
              "('accuracy', 0.8023)"
            ]
          },
          "metadata": {
            "tags": []
          },
          "execution_count": 23
        }
      ]
    },
    {
      "cell_type": "markdown",
      "metadata": {
        "id": "dGLDhXmicA27",
        "colab_type": "text"
      },
      "source": [
        "#Training Pytorchh Model"
      ]
    },
    {
      "cell_type": "code",
      "metadata": {
        "id": "uhBBS4PfTu9C",
        "colab_type": "code",
        "outputId": "9008976b-ec27-40ac-d16c-19053a79d394",
        "colab": {
          "base_uri": "https://localhost:8080/",
          "height": 90
        }
      },
      "source": [
        "normalize = pytorchT.Normalize(mean=[0.491, 0.482, 0.447], std=[0.247, 0.243, 0.262])\n",
        "\n",
        "train_transform = pytorchT.Compose([\n",
        "    pytorchT.RandomHorizontalFlip(),\n",
        "    pytorchT.ToTensor(),\n",
        "    normalize\n",
        "])\n",
        "\n",
        "val_transform = pytorchT.Compose([\n",
        "    pytorchT.ToTensor(),\n",
        "    normalize\n",
        "])\n",
        "\n",
        "pytorch_trainset = torchvision.datasets.CIFAR10(\n",
        "    root='./data', train=True, download=True, transform=train_transform)\n",
        "pytorch_trainloader = torch.utils.data.DataLoader(\n",
        "    pytorch_trainset, batch_size=128, shuffle=True, num_workers=2)\n",
        "\n",
        "pytorch_testset = torchvision.datasets.CIFAR10(\n",
        "    root='./data', train=False, download=True, transform=val_transform)\n",
        "pytorch_testloader = torch.utils.data.DataLoader(\n",
        "    pytorch_testset, batch_size=128, shuffle=False, num_workers=2)"
      ],
      "execution_count": 29,
      "outputs": [
        {
          "output_type": "stream",
          "text": [
            "\r0it [00:00, ?it/s]"
          ],
          "name": "stderr"
        },
        {
          "output_type": "stream",
          "text": [
            "Downloading https://www.cs.toronto.edu/~kriz/cifar-10-python.tar.gz to ./data/cifar-10-python.tar.gz\n"
          ],
          "name": "stdout"
        },
        {
          "output_type": "stream",
          "text": [
            "170500096it [00:06, 27162209.60it/s]                               \n"
          ],
          "name": "stderr"
        },
        {
          "output_type": "stream",
          "text": [
            "Files already downloaded and verified\n"
          ],
          "name": "stdout"
        }
      ]
    },
    {
      "cell_type": "code",
      "metadata": {
        "id": "SAsHsduETu0P",
        "colab_type": "code",
        "outputId": "51c4da93-91d9-4ed2-aca5-aa15f9b590c8",
        "colab": {
          "base_uri": "https://localhost:8080/",
          "height": 52
        }
      },
      "source": [
        "%%time\n",
        "pytorch_criterion = pytorchnn.CrossEntropyLoss()\n",
        "pytorch_optimizer = pytorchoptim.Adam(pytorch.parameters(), 0.001)"
      ],
      "execution_count": 37,
      "outputs": [
        {
          "output_type": "stream",
          "text": [
            "CPU times: user 1.2 ms, sys: 43 µs, total: 1.24 ms\n",
            "Wall time: 1.25 ms\n"
          ],
          "name": "stdout"
        }
      ]
    },
    {
      "cell_type": "code",
      "metadata": {
        "id": "Wdh5Fz9Mdy07",
        "colab_type": "code",
        "outputId": "3bd4244b-bd64-4546-b3ab-5debdf02c25c",
        "colab": {
          "base_uri": "https://localhost:8080/",
          "height": 229
        }
      },
      "source": [
        "%%time\n",
        "pytorch.train()\n",
        "for epoch in range(10):\n",
        "    for features, labels in pytorch_trainloader:\n",
        "        output = pytorch(features.cuda())\n",
        "        loss = pytorch_criterion(output, labels.cuda())\n",
        "        pytorch_optimizer.zero_grad()\n",
        "        loss.backward()\n",
        "        pytorch_optimizer.step()\n",
        "    print('Epoch:', epoch)"
      ],
      "execution_count": 38,
      "outputs": [
        {
          "output_type": "stream",
          "text": [
            "Epoch: 0\n",
            "Epoch: 1\n",
            "Epoch: 2\n",
            "Epoch: 3\n",
            "Epoch: 4\n",
            "Epoch: 5\n",
            "Epoch: 6\n",
            "Epoch: 7\n",
            "Epoch: 8\n",
            "Epoch: 9\n",
            "CPU times: user 2min 4s, sys: 6.25 s, total: 2min 10s\n",
            "Wall time: 2min 32s\n"
          ],
          "name": "stdout"
        }
      ]
    },
    {
      "cell_type": "code",
      "metadata": {
        "id": "TX0uO2Vmfehi",
        "colab_type": "code",
        "colab": {
          "base_uri": "https://localhost:8080/",
          "height": 52
        },
        "outputId": "1e0f1bb4-9416-4e60-b294-b9258802ce09"
      },
      "source": [
        "%%time\n",
        "pytorch.eval()\n",
        "correct = 0\n",
        "total = 0\n",
        "with torch.no_grad():\n",
        "    for features, labels in pytorch_testloader:\n",
        "        outputs = pytorch(features.cuda())\n",
        "        _, predicted = torch.max(outputs.data, 1)\n",
        "        total += labels.size(0)\n",
        "        correct += (predicted == labels.cuda()).sum().item()"
      ],
      "execution_count": 39,
      "outputs": [
        {
          "output_type": "stream",
          "text": [
            "CPU times: user 579 ms, sys: 238 ms, total: 817 ms\n",
            "Wall time: 1.79 s\n"
          ],
          "name": "stdout"
        }
      ]
    },
    {
      "cell_type": "code",
      "metadata": {
        "id": "-FAyoGLglL6c",
        "colab_type": "code",
        "colab": {
          "base_uri": "https://localhost:8080/",
          "height": 34
        },
        "outputId": "61de0f5c-0d73-42be-b046-4f2621074ad2"
      },
      "source": [
        "print('Test Accuracy:', correct / total)"
      ],
      "execution_count": 40,
      "outputs": [
        {
          "output_type": "stream",
          "text": [
            "Test Accuracy: 0.7896\n"
          ],
          "name": "stdout"
        }
      ]
    }
  ]
}